{
 "cells": [
  {
   "cell_type": "markdown",
   "metadata": {},
   "source": [
    "# Classes and Objects Exercises\n",
    "\n",
    "**Exercises by Orion Buske with thanks to Jon Pipitone.**"
   ]
  },
  {
   "cell_type": "markdown",
   "metadata": {},
   "source": [
    "Orion is excited at the prospect of having sushi for lunch tomorrow, so this\n",
    "seems like a perfect opportunity to practice object-oriented programming. My\n",
    "apologies in advance for the abundant over-simplifications and high likelihood\n",
    "of other mistakes.\n",
    "\n",
    "Let's start with a little bit of background. Sushi is, to quote Wikipedia, \"a\n",
    "Japanese dish consisting of cooked vinegared rice which is commonly topped with\n",
    "other ingredients, such as fish or other seafood, or put into rolls.\" The two\n",
    "most popular forms of sushi, with a few sub-types, are:\n",
    "\n",
    "1. **Nigiri**- a hand-formed ball of rice topped with something tasty\n",
    "  * Gunkanmaki - with a loose or soft topping that is held in place with a\n",
    "    strip of seaweed\n",
    "  * Temarizushi - where the topping is just pressed into a ball of rice\n",
    "\n",
    "2. **Maki**- one or more tasty things rolled up in seaweed and rice\n",
    "  * Futomaki - seaweed on the outside, usually vegetarian\n",
    "  * Temaki - cone-shaped seaweed filled with rice and tasty things\n",
    "  * Uramaki - rice on the outside\n",
    "\n",
    "Luckily, this sort of hierarchical structure lends itself nicely to Classes and\n",
    "inheritance. If you have been in a sushi restaurant before, you know how often\n",
    "there are typos in the English descriptions. We are going to write a simple\n",
    "program that a sushi restaurant owner could (theoretically) use to create a\n",
    "menu, complete with English translation and Japanese transliteration (but not\n",
    "actual Japanese, forgive me). "
   ]
  },
  {
   "cell_type": "markdown",
   "metadata": {},
   "source": [
    "## Exercise 1\n",
    "\n",
    "To start, create an `Ingredient` class that inherits from `object`. The\n",
    "constructor should accept two strings as arguments, `japanese` and `english`,\n",
    "that correspond to the Japanese transliteration and English translation. The\n",
    "`english` argument should be optional, and should default to the value of\n",
    "`japanese` if not supplied (just like on menus, where some ingredients aren't\n",
    "translated and you're left to wonder hopelessly). The value of both should be\n",
    "saved as members of the Ingredient class.\n",
    "\n",
    "**Hint:**"
   ]
  },
  {
   "cell_type": "code",
   "execution_count": 1,
   "metadata": {},
   "outputs": [],
   "source": [
    "class Ingredient(object):\n",
    "    def __init__(self, japanese, english = None, *args, **kwargs):\n",
    "        assert japanese #checks if not empty\n",
    "        english = japanese if english is None else english\n",
    "        self.english = english\n",
    "        self.japanese = japanese"
   ]
  },
  {
   "cell_type": "code",
   "execution_count": 2,
   "metadata": {},
   "outputs": [],
   "source": [
    "def __init__(self, japanese, english=None):\n",
    "    assert japanese\n",
    "    if english is None:\n",
    "        english = japanese\n",
    "    ..."
   ]
  },
  {
   "cell_type": "markdown",
   "metadata": {},
   "source": [
    "## Execise 2\n",
    "\n",
    "Add to the `Ingredient` class two methods: `__str__(self)` and\n",
    "`to_english(self)`. Both methods must return a string, and the `__str__` method\n",
    "is what gets called when you print an object or \"cast\" it to a string. We will\n",
    "have `__str__` return the Japanese name of the ingredient, and `to_english` will\n",
    "return the English translation.\n",
    "\n",
    "**Hint:**"
   ]
  },
  {
   "cell_type": "code",
   "execution_count": 3,
   "metadata": {},
   "outputs": [],
   "source": [
    "class Ingredient(object):\n",
    "    def __init__(self, japanese, english = None, *args, **kwargs):\n",
    "        assert japanese #checks if not empty\n",
    "        english = japanese if english is None else english\n",
    "        self.english = english\n",
    "        self.japanese = japanese\n",
    "    \n",
    "    def __str__(self):\n",
    "        return self.japanese\n",
    "    \n",
    "    def to_english(self):\n",
    "        return self.english"
   ]
  },
  {
   "cell_type": "code",
   "execution_count": 4,
   "metadata": {},
   "outputs": [],
   "source": [
    "def __str__(self):\n",
    "    return self.japanese"
   ]
  },
  {
   "cell_type": "markdown",
   "metadata": {},
   "source": [
    "I have created (with data from http://www.bento.com/sushivoc.html) a file of\n",
    "common sushi ingredients, [oop_sushi.txt](oop_sushi.txt). The first column is the\n",
    "transliteration, the second column is the translation, if available (I\n",
    "selectively removed a few). "
   ]
  },
  {
   "cell_type": "markdown",
   "metadata": {},
   "source": [
    "## Exercise 3\n",
    "\n",
    "Write a function, `read_ingredients`, that accepts an opened file object as its\n",
    "argument and returns a list of `Ingredient` objects.\n",
    "\n",
    "Try calling this function on the sushi_terms.txt in an `if __name__ ==\n",
    "'__main__'` block and printing the first few ingredients to make sure it works."
   ]
  },
  {
   "cell_type": "code",
   "execution_count": 5,
   "metadata": {},
   "outputs": [
    {
     "name": "stdout",
     "output_type": "stream",
     "text": [
      "aji\n",
      "horse mackerel\n",
      "akagai\n",
      "ark shell\n",
      "amaebi\n",
      "raw shrimp\n",
      "anago\n",
      "conger eel\n",
      "aoyagi\n",
      "round clam\n"
     ]
    }
   ],
   "source": [
    "def read_ingredients(file):\n",
    "    names = file.read().splitlines()\n",
    "    ingredients = []\n",
    "    for name in names:\n",
    "        splitted = name.split(\"\\t\")\n",
    "        if len(splitted) > 1:\n",
    "            ingredients.append(Ingredient(splitted[0], splitted[-1] if len(splitted) > 1 else None))\n",
    "    return ingredients\n",
    "oop = read_ingredients(open('oop_sushi.txt'))\n",
    "# Checks\n",
    "if __name__ == '__main__':\n",
    "    for i in range(5):\n",
    "        print(str(oop[i]))\n",
    "        print(oop[i].to_english())"
   ]
  },
  {
   "cell_type": "markdown",
   "metadata": {},
   "source": [
    "## Execise 4\n",
    "\n",
    "Now, create a `Sushi` class that inherits from `object`. `Sushi`s It should have\n",
    "a constructor that accepts a list of `Ingredient` objects."
   ]
  },
  {
   "cell_type": "code",
   "execution_count": 6,
   "metadata": {},
   "outputs": [],
   "source": [
    "class Sushi(object):\n",
    "    def __init__(self, ingredients):\n",
    "        assert type(ingredients) is list\n",
    "        self.ingredients = ingredients"
   ]
  },
  {
   "cell_type": "markdown",
   "metadata": {},
   "source": [
    "## Exercise 5\n",
    "\n",
    "Next, add a `__str__(self)` method. This method must return a string. Â The\n",
    "string should contain the Japanese representation of all the ingredients, but\n",
    "the string itself should be in proper English so, for example, \"buri\", \"buri and\n",
    "tsubugai\", and \"buri, tsubugai, and kanpachi\" are the correct way to print one,\n",
    "two, or three ingredients, respectively. Do not just join the ingredients with\n",
    "commas.\n",
    "\n",
    "**Hint:**\n",
    "\n",
    "    Since all the ingredients are `Ingredient` objects, you can just turn them\n",
    "    into strings to get their Japanese representation.\n",
    "\n",
    "**Hint:**\n",
    "\n",
    "    There are three cases: 1, 2, or 3+ items. It's okay to handle them separately."
   ]
  },
  {
   "cell_type": "code",
   "execution_count": 7,
   "metadata": {},
   "outputs": [],
   "source": [
    "class Sushi(object):\n",
    "    def __init__(self, ingredients):\n",
    "        assert type(ingredients) is list\n",
    "        self.ingredients = ingredients\n",
    "    \n",
    "    def __str__(self):\n",
    "        words = []\n",
    "        sentence = \"\"\n",
    "        for i in self.ingredients:\n",
    "            words.append(str(i))\n",
    "        if len(words) > 2:\n",
    "            while len(words) > 2:\n",
    "                sentence += words.pop(0) + \", \"\n",
    "            sentence += words.pop(0) + \", and \" + words.pop(0)\n",
    "        elif len(words) == 2:\n",
    "            sentence = words[0] + \" and \" + words[1]\n",
    "        else:\n",
    "            sentence = words[0]\n",
    "        return sentence"
   ]
  },
  {
   "cell_type": "markdown",
   "metadata": {},
   "source": [
    "## Execise 6\n",
    "\n",
    "Next, add a loop to your `__main__` block that prompts the user for a menu item\n",
    "and reads a line from `sys.stdin`. Provide a command for the user to quit (and\n",
    "tell them what it is). For now, expect the user to just type one or more\n",
    "ingredients on a line. You can use the built-in function `raw_input()` for this.\n",
    "\n",
    "You should then parse the ingredients, find the appropriate `Ingredient`\n",
    "objects, create a `Sushi` object, and print it in response. For example:\n",
    "\n",
    "    Enter your sushi ('QUIT' to exit): <strong>unagi fugu ika sake</strong>\n",
    "    unagi, fugu, ika, and sake\n",
    "\n",
    "You may need to review\n",
    "[dictionaries](http://software-carpentry.org/4_0/setdict/dict/) for this\n",
    "exercise."
   ]
  },
  {
   "cell_type": "code",
   "execution_count": 8,
   "metadata": {},
   "outputs": [
    {
     "name": "stdout",
     "output_type": "stream",
     "text": [
      "Please specify name of file, or path to it (with file extension).oop_sushi.txt\n",
      "Enter your sushi ('QUIT' to exit):quit\n"
     ]
    }
   ],
   "source": [
    "filename = input(\"Please specify name of file, or path to it (with file extension).\")\n",
    "f = open(filename)\n",
    "ingredients = read_ingredients(f)\n",
    "f.close()\n",
    "count = 5000 #just to be sure\n",
    "\n",
    "while __name__ == '__main__':\n",
    "    inp = input(\"Enter your sushi ('QUIT' to exit):\")\n",
    "    if inp.lower() == 'quit':\n",
    "        break\n",
    "    \n",
    "    loop_ings = []\n",
    "    ingredient_names = inp.strip().split(\" \")\n",
    "    print(ingredient_names)\n",
    "    for name in ingredient_names:\n",
    "         for ing in ingredients:\n",
    "            if str(ing) == name:\n",
    "                loop_ings.append(ing)\n",
    "                break\n",
    "    s = Sushi(loop_ings)\n",
    "    print(s)\n",
    "    print(s.to_english())"
   ]
  },
  {
   "cell_type": "markdown",
   "metadata": {},
   "source": [
    "## Execise 7\n",
    "\n",
    "Now, add another method to the Sushi class, `to_english(self)`, which should\n",
    "return the English translation for the Sushi object. Thus, it should return a\n",
    "similar string as the `__str__` method, but with English ingredients instead of\n",
    "Japanese ones. Do not call `__str__` and translate its string. Since you were\n",
    "given the ingredients initially, just use their `to_english` methods, format\n",
    "them correctly with commas and \"and\"s, and return that. Since both `to_english`\n",
    "and `__str__` have to format their ingredients in the same way, you might want\n",
    "to create a helper method that formats a list of ingredients (regardless of\n",
    "their language).\n",
    "\n",
    "You should now also print the result of calling `to_english` on the `Sushi`\n",
    "objects you make at the user's request. Thus:\n",
    "    \n",
    "    Enter your sushi ('QUIT' to exit): <strong>unagi fugu ika sake</strong>\n",
    "    unagi, fugu, ika, and sake\n",
    "    eel, fugu, squid, and salmon"
   ]
  },
  {
   "cell_type": "code",
   "execution_count": 28,
   "metadata": {},
   "outputs": [],
   "source": [
    "class Sushi(object):\n",
    "    RICE = Ingredient('su-meshi', 'sushi rice')\n",
    "    SEAWEED = Ingredient('nori', 'seaweed')\n",
    "    sentence_structure = \"{ingredients}\"\n",
    "    \n",
    "    def __init__(self, ingredients):\n",
    "        assert type(ingredients) is list\n",
    "        self.ingredients = ingredients\n",
    "    \n",
    "    def to_sentence(self, word_list):\n",
    "        sentence = \"\"\n",
    "        if len(word_list) > 2:\n",
    "            while len(word_list) > 2:\n",
    "                sentence += word_list.pop(0) + \", \"\n",
    "            sentence += word_list.pop(0) + \", and \" + word_list.pop(0)\n",
    "        elif len(word_list) == 2:\n",
    "            sentence = word_list[0] + \" and \" + word_list[1]\n",
    "        else:\n",
    "            sentence = word_list[0]\n",
    "        vals = {'ingredients': sentence, 'rice': RICE, 'seaweed': SEAWEED}\n",
    "        return self.sentence_structure.format(**vals)\n",
    "    \n",
    "    def __str__(self):\n",
    "        words = []\n",
    "        for i in self.ingredients:\n",
    "            words.append(str(i))\n",
    "        return self.to_sentence(words)\n",
    "    \n",
    "    def to_english(self):\n",
    "        words = []\n",
    "        for i in self.ingredients:\n",
    "            words.append(i.to_english())\n",
    "        return self.to_sentence(words)"
   ]
  },
  {
   "cell_type": "markdown",
   "metadata": {},
   "source": [
    "## Execise 8\n",
    "\n",
    "Now let's add a `Maki` class that inherits from `Sushi`. Everything will be the\n",
    "same, except instead of just printing the ingredients, we want to print\n",
    "something more descriptive. Let's have its `__str__` and `to_english` methods\n",
    "return a string of the form: `[ingredients] rolled in [rice] and [seaweed]`,\n",
    "where `[ingredients]` is our grammatical list of ingredients, and `[rice]` and\n",
    "`[seaweed]` are two other ingredients that will be consistent across all sushi\n",
    "types, but you should be sure to use the correct language at the correct time,\n",
    "like other ingredients. However, these ingredients won't be specified in the\n",
    "list of ingredients; they are implied by the type of sushi! You can create\n",
    "constants for these ingredients or handle them in some other way. I did the\n",
    "following:"
   ]
  },
  {
   "cell_type": "code",
   "execution_count": 30,
   "metadata": {},
   "outputs": [],
   "source": [
    "class Maki(Sushi):\n",
    "    sentence_structure = \"{ingredients} rolled in {rice} and {seaweed}\""
   ]
  },
  {
   "cell_type": "code",
   "execution_count": 11,
   "metadata": {},
   "outputs": [],
   "source": [
    "RICE = Ingredient('su-meshi', 'sushi rice')\n",
    "SEAWEED = Ingredient('nori', 'seaweed')"
   ]
  },
  {
   "cell_type": "markdown",
   "metadata": {},
   "source": [
    "## Execise 9\n",
    "\n",
    "Now, revise the `__main__` block so that if someone enters \"unagi fugu\" or\n",
    "\"unagi fugu sushi\" we consider it to be general sushi and create an appropriate\n",
    "`Sushi` object. However, if the last word was \"maki\", we should create a `Maki`\n",
    "object instead. You should do this in a way that is very easy to extend, because\n",
    "there are going to be many more of these. As a general rule, we'll expect the\n",
    "user to enter a number of Japanese ingredients, possibly following by a sushi\n",
    "type. If no sushi type is specified, we should default to the base class,\n",
    "otherwise we should use the type the user specified.\n",
    "\n",
    "**Hint:**"
   ]
  },
  {
   "cell_type": "code",
   "execution_count": 33,
   "metadata": {},
   "outputs": [
    {
     "name": "stdout",
     "output_type": "stream",
     "text": [
      "Enter your sushi ('QUIT' to exit):aji urumaki\n",
      "aji rolled in su-meshi and nori, with nori facing out\n",
      "horse mackerel rolled in su-meshi and nori, with nori facing out\n",
      "Enter your sushi ('QUIT' to exit):aji temaki\n",
      "cone of nori filled with su-meshi and aji\n",
      "cone of nori filled with su-meshi and horse mackerel\n",
      "Enter your sushi ('QUIT' to exit):quit\n"
     ]
    }
   ],
   "source": []
  },
  {
   "cell_type": "code",
   "execution_count": 13,
   "metadata": {},
   "outputs": [],
   "source": [
    "types = {'sushi': Sushi,\n",
    "         'maki': Maki}"
   ]
  },
  {
   "cell_type": "markdown",
   "metadata": {},
   "source": [
    "## Exercise 10\n",
    "\n",
    "Wonderful! We have a few more kinds of sushi to add, though. Futomaki, Temaki,\n",
    "and Uramaki are all types of Maki, and all should inherit from it. Their\n",
    "respective format strings should be of the following sort:\n",
    "\n",
    "- **Futomaki:** \"[ingredients] rolled in [rice] and [seaweed], with [seaweed]\n",
    "  facing out\"\n",
    "- **Temaki:**   \"cone of [seaweed] filled with [rice] and [ingredients]\"\n",
    "- **Uramaki:**  \"[ingredients] rolled in [seaweed] and [rice], with [rice]\n",
    "  facing out\"\n",
    "\n",
    "You may find the notion of a format string useful in this endeavor. For\n",
    "instance, if you have the following string:"
   ]
  },
  {
   "cell_type": "code",
   "execution_count": 14,
   "metadata": {},
   "outputs": [],
   "source": [
    "my_str = \"{ingredients} rolled in {rice} and {seaweed}, with {seaweed} facing out\""
   ]
  },
  {
   "cell_type": "markdown",
   "metadata": {},
   "source": [
    "Then you can do the following:"
   ]
  },
  {
   "cell_type": "code",
   "execution_count": 15,
   "metadata": {},
   "outputs": [
    {
     "name": "stdout",
     "output_type": "stream",
     "text": [
      "yummy things rolled in su-meshi and nori, with nori facing out\n"
     ]
    }
   ],
   "source": [
    "ingredient_str = \"yummy things\"\n",
    "vals = {'rice': RICE, 'seaweed': SEAWEED, 'ingredients': ingredient_str}\n",
    "print(my_str.format(**vals))"
   ]
  },
  {
   "cell_type": "markdown",
   "metadata": {},
   "source": [
    "This is in fact quite powerful, because you can include rice and seaweed even if\n",
    "they don't occur in the format string! Given this knowledge, you should try to\n",
    "rewrite the `Sushi` base class so that it formats a member variable with a\n",
    "dictionary of 'rice', 'seaweed', and 'ingredients'. Then, any child class need\n",
    "only change their value of this member and everything works. For example:"
   ]
  },
  {
   "cell_type": "code",
   "execution_count": 32,
   "metadata": {},
   "outputs": [],
   "source": [
    "class Futomaki(Maki):\n",
    "    sentence_structure = \"{ingredients} rolled in {rice} and {seaweed}, with {seaweed} facing out\"\n",
    "    \n",
    "class Temaki(Maki):\n",
    "    sentence_structure = \"cone of {seaweed} filled with {rice} and {ingredients}\""
   ]
  },
  {
   "cell_type": "markdown",
   "metadata": {},
   "source": [
    "Make sure this works for both Japanese and English strings, and make sure you've\n",
    "added these new Maki types to your `__main__` block so that the following work:\n",
    "    \n",
    "    Enter your sushi ('QUIT' to exit): <strong>unagi ohyo uramaki</strong>\n",
    "    unagi and ohyo rolled in nori and su-meshi, with su-meshi facing out\n",
    "    eel and halibut rolled in seaweed and sushi rice, with sushi rice facing out\n",
    "    \n",
    "    Enter your sushi ('QUIT' to exit): <strong>ikura temaki</strong>\n",
    "    cone of nori filled with su-meshi and ikura\n",
    "    cone of seaweed filled with sushi rice and salmon roe"
   ]
  },
  {
   "cell_type": "markdown",
   "metadata": {},
   "source": [
    "## Exercise 11\n",
    "\n",
    "Almost done. One last set of sushi classes to add. Add a Nigiri class that\n",
    "inherits from Sushi, and Gunkanmaki and Temarizushi classes that inherit from\n",
    "Nigiri. Since Nigiri usually only has one topping, you should take advantage of\n",
    "inheritance to make sure this is true for all such sushi by checking that this\n",
    "is the case in Nigiri's `__init__` method. If you run into an error, raise an\n",
    "InvalidSushiError (you will have to define one; Python's libraries aren't quite\n",
    "that complete). Don't forget to call it's parent's init method as well. Their\n",
    "descriptions are as follows:\n",
    "    \n",
    "- **Nigiri:** \"hand-formed [rice] topped with [ingredients]\"\n",
    "- **Gunkanmaki:** \"[ingredient] on [rice] wrapped in a strip of [seaweed]\"\n",
    "- **Temarizushi:** \"[ingredients] pressed into a ball of [rice]\"\n",
    "\n",
    "**Hint:**"
   ]
  },
  {
   "cell_type": "code",
   "execution_count": 17,
   "metadata": {},
   "outputs": [],
   "source": [
    "class InvalidSushiError(Exception):\n",
    "    pass"
   ]
  },
  {
   "cell_type": "code",
   "execution_count": 44,
   "metadata": {},
   "outputs": [],
   "source": [
    "class Nigiri(Sushi):\n",
    "    sentence_structure = \"hand-formed {rice} topped with {ingredients}\"\n",
    "    def __init__(self, ingredients):\n",
    "        assert type(ingredients) is list\n",
    "        if len(ingredients) != 1:\n",
    "            raise InvalidSushiError(\"Error. Nigiri has only one topping.\")\n",
    "        super().__init__(ingredients)\n",
    "\n",
    "class Gunkanmaki(Nigiri):\n",
    "    sentence_structure = \"{ingredients} on {rice} wrapped in a strip of {seaweed}\"\n",
    "\n",
    "class Temarizushi(Nigiri):\n",
    "    sentence_structure = \"{ingredients} pressed into a ball of {rice}\""
   ]
  },
  {
   "cell_type": "markdown",
   "metadata": {},
   "source": [
    "As a final test, the following example should work:\n",
    "\n",
    "    \n",
    "    Enter your sushi ('QUIT' to exit): <strong>fugu ohyo ika unagi</strong>\n",
    "    fugu, ohyo, ika, and unagi\n",
    "    fugu, halibut, squid, and eel\n",
    "    \n",
    "    Enter your sushi ('QUIT' to exit): <strong>fugu ohyo ika unagi sushi</strong>\n",
    "    fugu, ohyo, ika, and unagi\n",
    "    fugu, halibut, squid, and eel\n",
    "    \n",
    "    Enter your sushi ('QUIT' to exit): <strong>ika sake gunkanmaki</strong>\n",
    "    Traceback (most recent call last):\n",
    "        ...\n",
    "    __main__.InvalidSushiError: Nigiri has only one topping"
   ]
  },
  {
   "cell_type": "code",
   "execution_count": 46,
   "metadata": {},
   "outputs": [
    {
     "name": "stdout",
     "output_type": "stream",
     "text": [
      "Enter your sushi ('QUIT' to exit):aji gunkanmaki\n",
      "aji on su-meshi wrapped in a strip of nori\n",
      "horse mackerel on su-meshi wrapped in a strip of nori\n",
      "Enter your sushi ('QUIT' to exit):aji temarizushi\n",
      "aji pressed into a ball of su-meshi\n",
      "horse mackerel pressed into a ball of su-meshi\n",
      "Enter your sushi ('QUIT' to exit):quit\n"
     ]
    }
   ],
   "source": [
    "# Final tests\n",
    "filename = \"oop_sushi.txt\" #input(\"Please specify name of file, or path to it (with file extension).\")\n",
    "f = open(filename)\n",
    "ingredients = read_ingredients(f)\n",
    "f.close()\n",
    "count = 5000 #just to be sure\n",
    "\n",
    "while __name__ == '__main__':\n",
    "    inp = input(\"Enter your sushi ('QUIT' to exit):\")\n",
    "    if inp.lower() == 'quit':\n",
    "        break\n",
    "    \n",
    "    loop_ings = []\n",
    "    ingredient_names = inp.strip().lower().split(\" \")\n",
    "    types = {'sushi': Sushi, 'maki': Maki}\n",
    "    for name in ingredient_names:\n",
    "         for ing in ingredients:\n",
    "            if str(ing).lower() == name:\n",
    "                loop_ings.append(ing)\n",
    "                break\n",
    "    if ingredient_names[-1] == 'maki':\n",
    "        s = Maki(loop_ings)\n",
    "    elif ingredient_names[-1] == 'urumaki':\n",
    "        s = Futomaki(loop_ings)\n",
    "    elif ingredient_names[-1] == 'temaki':\n",
    "        s = Temaki(loop_ings)\n",
    "    elif ingredient_names[-1] == 'gunkanmaki':\n",
    "        s = Gunkanmaki(loop_ings)\n",
    "    elif ingredient_names[-1] == 'nigiri':\n",
    "        s = Nigiri(loop_ings)\n",
    "    elif ingredient_names[-1] == 'temarizushi':\n",
    "        s = Temarizushi(loop_ings)\n",
    "    else:\n",
    "        s = Sushi(loop_ings)\n",
    "    print(s)\n",
    "    print(s.to_english())"
   ]
  },
  {
   "cell_type": "code",
   "execution_count": null,
   "metadata": {},
   "outputs": [],
   "source": []
  }
 ],
 "metadata": {
  "kernelspec": {
   "display_name": "Python 3",
   "language": "python",
   "name": "python3"
  },
  "language_info": {
   "codemirror_mode": {
    "name": "ipython",
    "version": 3
   },
   "file_extension": ".py",
   "mimetype": "text/x-python",
   "name": "python",
   "nbconvert_exporter": "python",
   "pygments_lexer": "ipython3",
   "version": "3.6.2"
  }
 },
 "nbformat": 4,
 "nbformat_minor": 1
}
