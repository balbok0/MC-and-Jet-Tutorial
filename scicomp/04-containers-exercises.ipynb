{
 "cells": [
  {
   "cell_type": "markdown",
   "metadata": {},
   "source": [
    "# Exercise 1\n",
    "\n",
    "1. Calculate the mean of the numbers 2, 3, and 10."
   ]
  },
  {
   "cell_type": "code",
   "execution_count": 4,
   "metadata": {},
   "outputs": [
    {
     "data": {
      "text/plain": [
       "5.0"
      ]
     },
     "execution_count": 4,
     "metadata": {},
     "output_type": "execute_result"
    }
   ],
   "source": [
    "import numpy as np\n",
    "np.mean([2,3,10])"
   ]
  },
  {
   "cell_type": "markdown",
   "metadata": {},
   "source": [
    "# Exercise 2\n",
    "\n",
    "1 - Make a list with 5 things in it."
   ]
  },
  {
   "cell_type": "code",
   "execution_count": 5,
   "metadata": {},
   "outputs": [],
   "source": [
    "list1 = [1, 1, 1, 1, 1]"
   ]
  },
  {
   "cell_type": "markdown",
   "metadata": {},
   "source": [
    "2 - Add two more things."
   ]
  },
  {
   "cell_type": "code",
   "execution_count": 9,
   "metadata": {},
   "outputs": [
    {
     "ename": "AttributeError",
     "evalue": "'list' object has no attribute 'print'",
     "output_type": "error",
     "traceback": [
      "\u001b[1;31m---------------------------------------------------------------------------\u001b[0m",
      "\u001b[1;31mAttributeError\u001b[0m                            Traceback (most recent call last)",
      "\u001b[1;32m<ipython-input-9-1e4094d22754>\u001b[0m in \u001b[0;36m<module>\u001b[1;34m()\u001b[0m\n\u001b[0;32m      1\u001b[0m \u001b[0mlist1\u001b[0m\u001b[1;33m.\u001b[0m\u001b[0mappend\u001b[0m\u001b[1;33m(\u001b[0m\u001b[1;33m[\u001b[0m\u001b[1;36m1\u001b[0m\u001b[1;33m,\u001b[0m\u001b[1;36m2\u001b[0m\u001b[1;33m]\u001b[0m\u001b[1;33m)\u001b[0m\u001b[1;33m\u001b[0m\u001b[0m\n\u001b[1;32m----> 2\u001b[1;33m \u001b[0mlist1\u001b[0m\u001b[1;33m.\u001b[0m\u001b[0mprint\u001b[0m\u001b[1;33m\u001b[0m\u001b[0m\n\u001b[0m",
      "\u001b[1;31mAttributeError\u001b[0m: 'list' object has no attribute 'print'"
     ]
    }
   ],
   "source": [
    "list1.append([1,2])\n",
    "print(list1)"
   ]
  },
  {
   "cell_type": "markdown",
   "metadata": {},
   "source": [
    "# Exercise 2\n",
    "\n",
    "1. Make a dictionary whose keys are the strings \"zero\" through \"nine\" and whose values are ints 0 through 9."
   ]
  },
  {
   "cell_type": "code",
   "execution_count": 12,
   "metadata": {},
   "outputs": [
    {
     "name": "stdout",
     "output_type": "stream",
     "text": [
      "{'zero': 0, 'one': 1, 'two': 2, 'three': 3, 'four': 4, 'five': 5, 'six': 6, 'seven': 7, 'eight': 8, 'nine': 9}\n"
     ]
    }
   ],
   "source": [
    "digits = {}\n",
    "\n",
    "#  Your code goes here\n",
    "digits[\"zero\"]  = 0\n",
    "digits[\"one\"] = 1\n",
    "digits[\"two\"] = 2\n",
    "digits[\"three\"] = 3\n",
    "digits[\"four\"] = 4\n",
    "digits[\"five\"] = 5\n",
    "digits[\"six\"] = 6\n",
    "digits[\"seven\"] = 7\n",
    "digits[\"eight\"] = 8\n",
    "digits[\"nine\"] = 9\n",
    "print(digits)"
   ]
  },
  {
   "cell_type": "markdown",
   "metadata": {},
   "source": [
    "# Exercise 3\n",
    "\n",
    "1. Make a dictionary and experiment using different types as keys. Can containers be keys?"
   ]
  },
  {
   "cell_type": "code",
   "execution_count": 14,
   "metadata": {},
   "outputs": [],
   "source": [
    "  d = {}\n",
    "d['1'] = 1\n",
    "d[1] = 2\n",
    "d[1.0] = 3\n",
    "# containers cannot be keys"
   ]
  },
  {
   "cell_type": "markdown",
   "metadata": {},
   "source": [
    "# Exercises 4\n",
    "\n",
    "1. Write an if statement that prints whether x is even or odd"
   ]
  },
  {
   "cell_type": "code",
   "execution_count": 18,
   "metadata": {},
   "outputs": [
    {
     "name": "stdout",
     "output_type": "stream",
     "text": [
      "4\n",
      "x is less than five!\n",
      "even\n"
     ]
    }
   ],
   "source": [
    "x = 4\n",
    "print(x)\n",
    "\n",
    "if x < 5:\n",
    "  print(\"x is less than five!\")\n",
    "else: \n",
    "  print(\"x is not less than five!\")\n",
    "if x%2 == 0:\n",
    "    print(\"even\")\n",
    "else:\n",
    "    print(\"odd\")"
   ]
  },
  {
   "cell_type": "markdown",
   "metadata": {},
   "source": [
    "# Exercises 5\n",
    "\n",
    "1. Using a loop, calculate the factorial of 42 (the product of all integers up to and including 42)."
   ]
  },
  {
   "cell_type": "code",
   "execution_count": 43,
   "metadata": {},
   "outputs": [
    {
     "name": "stdout",
     "output_type": "stream",
     "text": [
      "33452526613163807108170062053440751665152000000000\n"
     ]
    }
   ],
   "source": [
    "factorial = 1\n",
    "for i in range(1,42):\n",
    "    factorial *= i\n",
    "print(factorial)"
   ]
  },
  {
   "cell_type": "markdown",
   "metadata": {},
   "source": [
    "# Exercises 6\n",
    "\n",
    "1. Create a function that returns the factorial of a given number."
   ]
  },
  {
   "cell_type": "code",
   "execution_count": 44,
   "metadata": {},
   "outputs": [],
   "source": [
    " def factorial(num):\n",
    "        factorial = 1\n",
    "        for i in range(1, num):\n",
    "            factorial *= i\n",
    "        return factorial"
   ]
  },
  {
   "cell_type": "markdown",
   "metadata": {},
   "source": [
    "# Exercise 7\n",
    "\n",
    "7A. Read the file 'big_animals.txt' and print each line and the length of each line."
   ]
  },
  {
   "cell_type": "code",
   "execution_count": 28,
   "metadata": {},
   "outputs": [
    {
     "name": "stdout",
     "output_type": "stream",
     "text": [
      "2011-04-22 10:30 Wolverine 10\n",
      "\n",
      "length: 30\n",
      "2011-04-22 15:30 Moose 37\n",
      "\n",
      "length: 26\n",
      "2011-04-23 12:16 Grizzly 25\n",
      "\n",
      "length: 28\n",
      "2011-04-23 12:32 Grizzly 2\n",
      "\n",
      "length: 27\n",
      "2011-04-24 22:19 Muskox 16\n",
      "\n",
      "length: 27\n",
      "2011-04-25 10:32 Muskox 11\n",
      "\n",
      "length: 27\n",
      "2011-04-25 19:53 Wolverine 1\n",
      "\n",
      "length: 29\n",
      "2011-04-25 08:10 Wolverine 14\n",
      "\n",
      "length: 30\n",
      "2011-04-25 13:38 Wolf 7\n",
      "\n",
      "length: 24\n",
      "2011-04-26 22:28 Elk 22\n",
      "\n",
      "length: 24\n",
      "2011-04-27 10:04 Moose 1\n",
      "\n",
      "length: 25\n",
      "2011-04-28 22:18 Muskox 22\n",
      "\n",
      "length: 27\n",
      "2011-04-28 14:15 Elk 39\n",
      "\n",
      "length: 24\n",
      "2011-04-28 02:23 Grizzly 27\n",
      "\n",
      "length: 28\n",
      "2011-04-29 11:23 Wolverine 1\n",
      "\n",
      "length: 29\n",
      "2011-04-30 12:51 Muskox 2\n",
      "\n",
      "length: 26\n",
      "2011-04-30 21:30 Fox 5\n",
      "\n",
      "length: 23\n",
      "2011-05-01 00:26 Elk 12\n",
      "\n",
      "length: 24\n",
      "2011-05-02 03:32 Moose 14\n",
      "\n",
      "length: 26\n",
      "2011-05-02 00:25 Wolf 39\n",
      "\n",
      "length: 25\n",
      "2011-05-03 10:05 Owl 10\n",
      "\n",
      "length: 24\n",
      "2011-05-04 23:16 Owl 10\n",
      "\n",
      "length: 24\n",
      "2011-05-04 22:20 Fox 10\n",
      "\n",
      "length: 24\n",
      "2011-05-05 07:00 Moose 20\n",
      "\n",
      "length: 26\n",
      "2011-05-05 14:49 Muskox 7\n",
      "\n",
      "length: 26\n",
      "2011-05-05 02:28 Wolverine 22\n",
      "\n",
      "length: 30\n",
      "2011-05-05 18:56 Grizzly 1\n",
      "\n",
      "length: 27\n",
      "2011-05-06 09:54 Wolf 42\n",
      "\n",
      "length: 25\n",
      "2011-05-06 23:02 Owl 9\n",
      "\n",
      "length: 23\n",
      "2011-05-06 19:40 Moose 31\n",
      "\n",
      "length: 26\n",
      "2011-05-06 22:15 Moose 9\n",
      "\n",
      "length: 25\n",
      "2011-05-06 12:25 Wolverine 8\n",
      "\n",
      "length: 29\n",
      "2011-05-07 13:10 Ptarmigan 40\n",
      "\n",
      "length: 30\n",
      "2011-05-07 02:45 Ptarmigan 29\n",
      "\n",
      "length: 30\n",
      "2011-05-07 02:01 Owl 40\n",
      "\n",
      "length: 24\n",
      "2011-05-08 04:15 Elk 4\n",
      "\n",
      "length: 23\n",
      "2011-05-08 01:36 Moose 19\n",
      "\n",
      "length: 26\n",
      "2011-05-08 21:41 Ptarmigan 32\n",
      "\n",
      "length: 30\n",
      "2011-05-08 08:11 Elk 31\n",
      "\n",
      "length: 24\n",
      "2011-05-08 09:39 Moose 35\n",
      "\n",
      "length: 26\n",
      "2011-05-08 19:39 Wolf 29\n",
      "\n",
      "length: 25\n",
      "2011-05-08 10:38 Moose 11\n",
      "\n",
      "length: 26\n",
      "2011-05-09 09:08 Elk 30\n",
      "\n",
      "length: 24\n",
      "2011-05-09 06:07 Grizzly 14\n",
      "\n",
      "length: 28\n",
      "2011-05-10 11:32 Wolf 5\n",
      "\n",
      "length: 24\n",
      "2011-05-10 11:03 Moose 15\n",
      "\n",
      "length: 26\n",
      "2011-05-10 00:11 Wolverine 21\n",
      "\n",
      "length: 30\n",
      "2011-05-10 11:30 Moose 5\n",
      "\n",
      "length: 25\n",
      "2011-05-11 01:45 Ptarmigan 9\n",
      "\n",
      "length: 29\n",
      "2011-05-12 04:18 Wolverine 3\n",
      "\n",
      "length: 29\n",
      "2011-05-12 20:54 Grizzly 22\n",
      "\n",
      "length: 28\n",
      "2011-05-12 10:16 Owl 10\n",
      "\n",
      "length: 24\n",
      "2011-05-12 21:54 Wolverine 6\n",
      "\n",
      "length: 29\n",
      "2011-05-12 11:10 Ptarmigan 36\n",
      "\n",
      "length: 30\n",
      "2011-05-13 20:07 Elk 41\n",
      "\n",
      "length: 24\n",
      "2011-05-14 15:41 Moose 12\n",
      "\n",
      "length: 26\n",
      "2011-05-14 12:22 Fox 42\n",
      "\n",
      "length: 24\n",
      "2011-05-14 15:47 Muskox 19\n",
      "\n",
      "length: 27\n",
      "2011-05-14 08:12 Ptarmigan 13\n",
      "\n",
      "length: 30\n",
      "2011-05-15 02:33 Wolf 39\n",
      "\n",
      "length: 25\n",
      "2011-05-15 18:33 Owl 15\n",
      "\n",
      "length: 24\n",
      "2011-05-15 20:30 Ptarmigan 27\n",
      "\n",
      "length: 30\n",
      "2011-05-16 18:08 Wolf 34\n",
      "\n",
      "length: 25\n",
      "2011-05-16 23:35 Wolf 12\n",
      "\n",
      "length: 25\n",
      "2011-05-17 06:30 Fox 42\n",
      "\n",
      "length: 24\n",
      "2011-05-17 11:48 Elk 36\n",
      "\n",
      "length: 24\n",
      "2011-05-17 05:18 Wolf 31\n",
      "\n",
      "length: 25\n",
      "2011-05-18 09:58 Wolf 23\n",
      "\n",
      "length: 25\n",
      "2011-05-19 00:45 Moose 6\n",
      "\n",
      "length: 25\n",
      "2011-05-19 21:29 Wolf 8\n",
      "\n",
      "length: 24\n",
      "2011-05-19 20:43 Fox 33\n",
      "\n",
      "length: 24\n",
      "2011-05-20 10:48 Fox 29\n",
      "\n",
      "length: 24\n",
      "2011-05-20 06:11 Ptarmigan 17\n",
      "\n",
      "length: 30\n",
      "2011-05-20 19:50 Fox 1\n",
      "\n",
      "length: 23\n",
      "2011-05-20 12:30 Ptarmigan 16\n",
      "\n",
      "length: 30\n",
      "2011-05-21 08:52 Muskox 24\n",
      "\n",
      "length: 27\n",
      "2011-05-21 06:30 Wolf 26\n",
      "\n",
      "length: 25\n",
      "2011-05-22 15:21 Wolf 41\n",
      "\n",
      "length: 25\n",
      "2011-05-22 14:07 Moose 30\n",
      "\n",
      "length: 26\n",
      "2011-05-22 10:36 Muskox 37\n",
      "\n",
      "length: 27\n",
      "2011-05-22 16:24 Grizzly 21\n",
      "\n",
      "length: 28\n",
      "2011-05-23 16:58 Grizzly 19\n",
      "\n",
      "length: 28\n",
      "2011-05-23 02:31 Grizzly 17\n",
      "\n",
      "length: 28\n",
      "2011-05-24 21:36 Wolf 1\n",
      "\n",
      "length: 24\n",
      "2011-05-24 13:36 Fox 26\n",
      "\n",
      "length: 24\n",
      "2011-05-24 11:03 Grizzly 12\n",
      "\n",
      "length: 28\n",
      "2011-05-25 09:07 Moose 10\n",
      "\n",
      "length: 26\n",
      "2011-05-26 19:59 Fox 16\n",
      "\n",
      "length: 24\n",
      "2011-05-27 01:20 Ptarmigan 29\n",
      "\n",
      "length: 30\n",
      "2011-05-28 19:23 Owl 22\n",
      "\n",
      "length: 24\n",
      "2011-05-28 16:52 Fox 5\n",
      "\n",
      "length: 23\n",
      "2011-05-28 18:15 Fox 22\n",
      "\n",
      "length: 24\n",
      "2011-05-29 04:15 Grizzly 15\n",
      "\n",
      "length: 28\n",
      "2011-05-30 12:15 Moose 11\n",
      "\n",
      "length: 26\n",
      "2011-05-30 16:27 Grizzly 34\n",
      "\n",
      "length: 28\n",
      "2011-05-30 19:20 Moose 25\n",
      "\n",
      "length: 26\n",
      "2011-05-31 06:21 Wolverine 31\n",
      "\n",
      "length: 30\n",
      "2011-05-31 10:19 Muskox 28\n",
      "\n",
      "length: 27\n",
      "2011-06-01 22:42 Elk 3\n",
      "\n",
      "length: 23\n",
      "2011-06-01 11:05 Grizzly 14\n",
      "\n",
      "length: 28\n"
     ]
    }
   ],
   "source": [
    "f = open(\"big_animals.txt\", 'r')\n",
    "lines = f.readlines()\n",
    "for l in lines:\n",
    "    print(l)\n",
    "    print(\"length: \" + str(len(l)))\n",
    "f.close()"
   ]
  },
  {
   "cell_type": "markdown",
   "metadata": {},
   "source": [
    "7B. Read the file 'big_animals.txt' again and print each line where the number of animals sighted is greater than 10.  We'll won't output the lines with fewer than 10 animals."
   ]
  },
  {
   "cell_type": "code",
   "execution_count": 29,
   "metadata": {},
   "outputs": [
    {
     "name": "stdout",
     "output_type": "stream",
     "text": [
      "2011-04-22 15:30 Moose 37\n",
      "\n",
      "2011-04-23 12:16 Grizzly 25\n",
      "\n",
      "2011-04-24 22:19 Muskox 16\n",
      "\n",
      "2011-04-25 10:32 Muskox 11\n",
      "\n",
      "2011-04-25 08:10 Wolverine 14\n",
      "\n",
      "2011-04-26 22:28 Elk 22\n",
      "\n",
      "2011-04-28 22:18 Muskox 22\n",
      "\n",
      "2011-04-28 14:15 Elk 39\n",
      "\n",
      "2011-04-28 02:23 Grizzly 27\n",
      "\n",
      "2011-05-01 00:26 Elk 12\n",
      "\n",
      "2011-05-02 03:32 Moose 14\n",
      "\n",
      "2011-05-02 00:25 Wolf 39\n",
      "\n",
      "2011-05-05 07:00 Moose 20\n",
      "\n",
      "2011-05-05 02:28 Wolverine 22\n",
      "\n",
      "2011-05-06 09:54 Wolf 42\n",
      "\n",
      "2011-05-06 19:40 Moose 31\n",
      "\n",
      "2011-05-07 13:10 Ptarmigan 40\n",
      "\n",
      "2011-05-07 02:45 Ptarmigan 29\n",
      "\n",
      "2011-05-07 02:01 Owl 40\n",
      "\n",
      "2011-05-08 01:36 Moose 19\n",
      "\n",
      "2011-05-08 21:41 Ptarmigan 32\n",
      "\n",
      "2011-05-08 08:11 Elk 31\n",
      "\n",
      "2011-05-08 09:39 Moose 35\n",
      "\n",
      "2011-05-08 19:39 Wolf 29\n",
      "\n",
      "2011-05-08 10:38 Moose 11\n",
      "\n",
      "2011-05-09 09:08 Elk 30\n",
      "\n",
      "2011-05-09 06:07 Grizzly 14\n",
      "\n",
      "2011-05-10 11:03 Moose 15\n",
      "\n",
      "2011-05-10 00:11 Wolverine 21\n",
      "\n",
      "2011-05-12 20:54 Grizzly 22\n",
      "\n",
      "2011-05-12 11:10 Ptarmigan 36\n",
      "\n",
      "2011-05-13 20:07 Elk 41\n",
      "\n",
      "2011-05-14 15:41 Moose 12\n",
      "\n",
      "2011-05-14 12:22 Fox 42\n",
      "\n",
      "2011-05-14 15:47 Muskox 19\n",
      "\n",
      "2011-05-14 08:12 Ptarmigan 13\n",
      "\n",
      "2011-05-15 02:33 Wolf 39\n",
      "\n",
      "2011-05-15 18:33 Owl 15\n",
      "\n",
      "2011-05-15 20:30 Ptarmigan 27\n",
      "\n",
      "2011-05-16 18:08 Wolf 34\n",
      "\n",
      "2011-05-16 23:35 Wolf 12\n",
      "\n",
      "2011-05-17 06:30 Fox 42\n",
      "\n",
      "2011-05-17 11:48 Elk 36\n",
      "\n",
      "2011-05-17 05:18 Wolf 31\n",
      "\n",
      "2011-05-18 09:58 Wolf 23\n",
      "\n",
      "2011-05-19 20:43 Fox 33\n",
      "\n",
      "2011-05-20 10:48 Fox 29\n",
      "\n",
      "2011-05-20 06:11 Ptarmigan 17\n",
      "\n",
      "2011-05-20 12:30 Ptarmigan 16\n",
      "\n",
      "2011-05-21 08:52 Muskox 24\n",
      "\n",
      "2011-05-21 06:30 Wolf 26\n",
      "\n",
      "2011-05-22 15:21 Wolf 41\n",
      "\n",
      "2011-05-22 14:07 Moose 30\n",
      "\n",
      "2011-05-22 10:36 Muskox 37\n",
      "\n",
      "2011-05-22 16:24 Grizzly 21\n",
      "\n",
      "2011-05-23 16:58 Grizzly 19\n",
      "\n",
      "2011-05-23 02:31 Grizzly 17\n",
      "\n",
      "2011-05-24 13:36 Fox 26\n",
      "\n",
      "2011-05-24 11:03 Grizzly 12\n",
      "\n",
      "2011-05-26 19:59 Fox 16\n",
      "\n",
      "2011-05-27 01:20 Ptarmigan 29\n",
      "\n",
      "2011-05-28 19:23 Owl 22\n",
      "\n",
      "2011-05-28 18:15 Fox 22\n",
      "\n",
      "2011-05-29 04:15 Grizzly 15\n",
      "\n",
      "2011-05-30 12:15 Moose 11\n",
      "\n",
      "2011-05-30 16:27 Grizzly 34\n",
      "\n",
      "2011-05-30 19:20 Moose 25\n",
      "\n",
      "2011-05-31 06:21 Wolverine 31\n",
      "\n",
      "2011-05-31 10:19 Muskox 28\n",
      "\n",
      "2011-06-01 11:05 Grizzly 14\n",
      "\n"
     ]
    }
   ],
   "source": [
    "f = open('big_animals.txt')\n",
    "for line in f.readlines():\n",
    "    if int(line.split(\" \")[-1]) > 10:\n",
    "        print(line)\n",
    "f.close()"
   ]
  },
  {
   "cell_type": "markdown",
   "metadata": {},
   "source": [
    "7C. Read the file 'big_animals.txt' again and return a list of tuples."
   ]
  },
  {
   "cell_type": "code",
   "execution_count": 36,
   "metadata": {},
   "outputs": [],
   "source": [
    "f = open('big_animals.txt')\n",
    "tuples = []\n",
    "for line in f.readlines():\n",
    "    tuples.append((line.split(\" \")[-2], line.split(\" \")[-1]))\n",
    "\n",
    "f.close()"
   ]
  },
  {
   "cell_type": "markdown",
   "metadata": {},
   "source": [
    "7D. Turn the code for #7C into a function and use it on the files 'merida_animals.txt' and 'fergus_animals.txt'."
   ]
  },
  {
   "cell_type": "code",
   "execution_count": 41,
   "metadata": {},
   "outputs": [
    {
     "name": "stdout",
     "output_type": "stream",
     "text": [
      "[('Wolverine', '10'), ('Moose', '37'), ('Grizzly', '25'), ('Grizzly', '2'), ('Muskox', '16'), ('Muskox', '11'), ('Wolverine', '1'), ('Wolverine', '14'), ('Wolf', '7'), ('Elk', '22'), ('Moose', '1'), ('Muskox', '22'), ('Elk', '39'), ('Grizzly', '27'), ('Wolverine', '1'), ('Muskox', '2'), ('Fox', '5'), ('Elk', '12'), ('Moose', '14'), ('Wolf', '39'), ('Owl', '10'), ('Owl', '10'), ('Fox', '10'), ('Moose', '20'), ('Muskox', '7'), ('Wolverine', '22'), ('Grizzly', '1'), ('Wolf', '42'), ('Owl', '9'), ('Moose', '31'), ('Moose', '9'), ('Wolverine', '8'), ('Ptarmigan', '40'), ('Ptarmigan', '29'), ('Owl', '40'), ('Elk', '4'), ('Moose', '19'), ('Ptarmigan', '32'), ('Elk', '31'), ('Moose', '35'), ('Wolf', '29'), ('Moose', '11'), ('Elk', '30'), ('Grizzly', '14'), ('Wolf', '5'), ('Moose', '15'), ('Wolverine', '21'), ('Moose', '5'), ('Ptarmigan', '9'), ('Wolverine', '3'), ('Grizzly', '22'), ('Owl', '10'), ('Wolverine', '6'), ('Ptarmigan', '36'), ('Elk', '41'), ('Moose', '12'), ('Fox', '42'), ('Muskox', '19'), ('Ptarmigan', '13'), ('Wolf', '39'), ('Owl', '15'), ('Ptarmigan', '27'), ('Wolf', '34'), ('Wolf', '12'), ('Fox', '42'), ('Elk', '36'), ('Wolf', '31'), ('Wolf', '23'), ('Moose', '6'), ('Wolf', '8'), ('Fox', '33'), ('Fox', '29'), ('Ptarmigan', '17'), ('Fox', '1'), ('Ptarmigan', '16'), ('Muskox', '24'), ('Wolf', '26'), ('Wolf', '41'), ('Moose', '30'), ('Muskox', '37'), ('Grizzly', '21'), ('Grizzly', '19'), ('Grizzly', '17'), ('Wolf', '1'), ('Fox', '26'), ('Grizzly', '12'), ('Moose', '10'), ('Fox', '16'), ('Ptarmigan', '29'), ('Owl', '22'), ('Fox', '5'), ('Fox', '22'), ('Grizzly', '15'), ('Moose', '11'), ('Grizzly', '34'), ('Moose', '25'), ('Wolverine', '31'), ('Muskox', '28'), ('Elk', '3'), ('Grizzly', '14')]\n"
     ]
    }
   ],
   "source": [
    "def file_to_tuple(file_name):\n",
    "    tuples = []\n",
    "    f = open(str(file_name))\n",
    "    for line in f.readlines():\n",
    "        tuples.append((line.strip().split(\" \")[-2], line.strip().split(\" \")[-1]))\n",
    "    f.close()\n",
    "    return tuples\n",
    "# Both files do not exist.\n",
    "#print(file_to_tuple('merida_animals.txt'))\n",
    "#print(file_to_tuple('fergus_animals.txt'))\n",
    "print(file_to_tuple('big_animals.txt'))"
   ]
  },
  {
   "cell_type": "markdown",
   "metadata": {},
   "source": [
    "# Exercise 8\n",
    "\n",
    "1.  Check your answer to Exercise 5 (the value of 42!) using the **math.gamma()** function."
   ]
  },
  {
   "cell_type": "code",
   "execution_count": 45,
   "metadata": {},
   "outputs": [
    {
     "name": "stdout",
     "output_type": "stream",
     "text": [
      "1.4050061177528803e+51\n"
     ]
    }
   ],
   "source": [
    "import math\n",
    "print(math.gamma(43))"
   ]
  },
  {
   "cell_type": "code",
   "execution_count": null,
   "metadata": {},
   "outputs": [],
   "source": []
  }
 ],
 "metadata": {
  "kernelspec": {
   "display_name": "Python 3",
   "language": "python",
   "name": "python3"
  },
  "language_info": {
   "codemirror_mode": {
    "name": "ipython",
    "version": 3
   },
   "file_extension": ".py",
   "mimetype": "text/x-python",
   "name": "python",
   "nbconvert_exporter": "python",
   "pygments_lexer": "ipython3",
   "version": "3.6.2"
  }
 },
 "nbformat": 4,
 "nbformat_minor": 1
}
